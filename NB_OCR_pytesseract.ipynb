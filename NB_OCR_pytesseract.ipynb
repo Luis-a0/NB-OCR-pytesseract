{
  "nbformat": 4,
  "nbformat_minor": 0,
  "metadata": {
    "colab": {
      "provenance": [],
      "authorship_tag": "ABX9TyPIyig43w3VEQikG2wrRo86",
      "include_colab_link": true
    },
    "kernelspec": {
      "name": "python3",
      "display_name": "Python 3"
    },
    "language_info": {
      "name": "python"
    }
  },
  "cells": [
    {
      "cell_type": "markdown",
      "metadata": {
        "id": "view-in-github",
        "colab_type": "text"
      },
      "source": [
        "<a href=\"https://colab.research.google.com/github/Luis-a0/NB-OCR-pytesseract/blob/master/NB_OCR_pytesseract.ipynb\" target=\"_parent\"><img src=\"https://colab.research.google.com/assets/colab-badge.svg\" alt=\"Open In Colab\"/></a>"
      ]
    },
    {
      "cell_type": "code",
      "source": [
        "!sudo apt install tesseract-ocr tesseract-ocr-spa\n",
        "!pip install pytesseract"
      ],
      "metadata": {
        "colab": {
          "base_uri": "https://localhost:8080/"
        },
        "id": "PDMwVvvUJ7Ij",
        "outputId": "3fdbf4a1-ae1c-41bb-dec5-d1a81367bf56"
      },
      "execution_count": 1,
      "outputs": [
        {
          "output_type": "stream",
          "name": "stdout",
          "text": [
            "Reading package lists... Done\n",
            "Building dependency tree... Done\n",
            "Reading state information... Done\n",
            "The following additional packages will be installed:\n",
            "  tesseract-ocr-eng tesseract-ocr-osd\n",
            "The following NEW packages will be installed:\n",
            "  tesseract-ocr tesseract-ocr-eng tesseract-ocr-osd tesseract-ocr-spa\n",
            "0 upgraded, 4 newly installed, 0 to remove and 39 not upgraded.\n",
            "Need to get 5,768 kB of archives.\n",
            "After this operation, 17.9 MB of additional disk space will be used.\n",
            "Get:1 http://archive.ubuntu.com/ubuntu jammy/universe amd64 tesseract-ocr-eng all 1:4.00~git30-7274cfa-1.1 [1,591 kB]\n",
            "Get:2 http://archive.ubuntu.com/ubuntu jammy/universe amd64 tesseract-ocr-osd all 1:4.00~git30-7274cfa-1.1 [2,990 kB]\n",
            "Get:3 http://archive.ubuntu.com/ubuntu jammy/universe amd64 tesseract-ocr amd64 4.1.1-2.1build1 [236 kB]\n",
            "Get:4 http://archive.ubuntu.com/ubuntu jammy/universe amd64 tesseract-ocr-spa all 1:4.00~git30-7274cfa-1.1 [951 kB]\n",
            "Fetched 5,768 kB in 2s (3,715 kB/s)\n",
            "debconf: unable to initialize frontend: Dialog\n",
            "debconf: (No usable dialog-like program is installed, so the dialog based frontend cannot be used. at /usr/share/perl5/Debconf/FrontEnd/Dialog.pm line 78, <> line 4.)\n",
            "debconf: falling back to frontend: Readline\n",
            "debconf: unable to initialize frontend: Readline\n",
            "debconf: (This frontend requires a controlling tty.)\n",
            "debconf: falling back to frontend: Teletype\n",
            "dpkg-preconfigure: unable to re-open stdin: \n",
            "Selecting previously unselected package tesseract-ocr-eng.\n",
            "(Reading database ... 121752 files and directories currently installed.)\n",
            "Preparing to unpack .../tesseract-ocr-eng_1%3a4.00~git30-7274cfa-1.1_all.deb ...\n",
            "Unpacking tesseract-ocr-eng (1:4.00~git30-7274cfa-1.1) ...\n",
            "Selecting previously unselected package tesseract-ocr-osd.\n",
            "Preparing to unpack .../tesseract-ocr-osd_1%3a4.00~git30-7274cfa-1.1_all.deb ...\n",
            "Unpacking tesseract-ocr-osd (1:4.00~git30-7274cfa-1.1) ...\n",
            "Selecting previously unselected package tesseract-ocr.\n",
            "Preparing to unpack .../tesseract-ocr_4.1.1-2.1build1_amd64.deb ...\n",
            "Unpacking tesseract-ocr (4.1.1-2.1build1) ...\n",
            "Selecting previously unselected package tesseract-ocr-spa.\n",
            "Preparing to unpack .../tesseract-ocr-spa_1%3a4.00~git30-7274cfa-1.1_all.deb ...\n",
            "Unpacking tesseract-ocr-spa (1:4.00~git30-7274cfa-1.1) ...\n",
            "Setting up tesseract-ocr-eng (1:4.00~git30-7274cfa-1.1) ...\n",
            "Setting up tesseract-ocr-spa (1:4.00~git30-7274cfa-1.1) ...\n",
            "Setting up tesseract-ocr-osd (1:4.00~git30-7274cfa-1.1) ...\n",
            "Setting up tesseract-ocr (4.1.1-2.1build1) ...\n",
            "Processing triggers for man-db (2.10.2-1) ...\n",
            "Collecting pytesseract\n",
            "  Downloading pytesseract-0.3.10-py3-none-any.whl (14 kB)\n",
            "Requirement already satisfied: packaging>=21.3 in /usr/local/lib/python3.10/dist-packages (from pytesseract) (24.0)\n",
            "Requirement already satisfied: Pillow>=8.0.0 in /usr/local/lib/python3.10/dist-packages (from pytesseract) (9.4.0)\n",
            "Installing collected packages: pytesseract\n",
            "Successfully installed pytesseract-0.3.10\n"
          ]
        }
      ]
    },
    {
      "cell_type": "code",
      "execution_count": 8,
      "metadata": {
        "id": "o1Ugb01sJvoY"
      },
      "outputs": [],
      "source": [
        "#Tesseract Library\n",
        "import pytesseract\n",
        "\n",
        "from PIL import Image"
      ]
    },
    {
      "cell_type": "code",
      "source": [
        "def extract_text(image_path):\n",
        "    text = pytesseract.image_to_string(Image.open(image_path), lang = 'spa')\n",
        "    return text"
      ],
      "metadata": {
        "id": "b4eItGLNJ1Pt"
      },
      "execution_count": 3,
      "outputs": []
    },
    {
      "cell_type": "code",
      "source": [
        "def clean_text(text):\n",
        "    text = text.replace(\"\\n\", \" \")\n",
        "    text = text.replace(\"\\x0c\", \"\")\n",
        "    text = text.replace(\"- \", \"\")\n",
        "    text = text.replace(\"  \", \" \")\n",
        "\n",
        "    return text"
      ],
      "metadata": {
        "id": "b2F4ZMSFFum7"
      },
      "execution_count": 4,
      "outputs": []
    },
    {
      "cell_type": "code",
      "source": [
        "def clean_list(list_):\n",
        "    return list(filter(\n",
        "        lambda x: x != \"\", list_))"
      ],
      "metadata": {
        "id": "VhKDG1ZWJ4XD"
      },
      "execution_count": 5,
      "outputs": []
    },
    {
      "cell_type": "code",
      "source": [
        "def custom_split(string, separate):\n",
        "    return string.split(separate)[:-1]"
      ],
      "metadata": {
        "id": "coTWnjAr4qtc"
      },
      "execution_count": 6,
      "outputs": []
    },
    {
      "cell_type": "code",
      "source": [
        "texto_delfines = extract_text('/content/texto_delfines.png')\n",
        "texto_antiguo = extract_text('/content/castellano_antiguo2.png')"
      ],
      "metadata": {
        "id": "zpANNoox3ojW"
      },
      "execution_count": 10,
      "outputs": []
    },
    {
      "cell_type": "code",
      "source": [
        "len(clean_list(custom_split(clean_text(texto_delfines), \" \"))) #295"
      ],
      "metadata": {
        "colab": {
          "base_uri": "https://localhost:8080/"
        },
        "id": "zcAgdUS5KIrt",
        "outputId": "091136d2-d479-4693-c527-d18337a9e34d"
      },
      "execution_count": 11,
      "outputs": [
        {
          "output_type": "execute_result",
          "data": {
            "text/plain": [
              "295"
            ]
          },
          "metadata": {},
          "execution_count": 11
        }
      ]
    },
    {
      "cell_type": "code",
      "source": [
        "len(clean_list(custom_split(clean_text(texto_antiguo), \" \"))) #43"
      ],
      "metadata": {
        "id": "dAZXvGSrKdq1",
        "colab": {
          "base_uri": "https://localhost:8080/"
        },
        "outputId": "2cda2e81-7d47-4a9c-92d8-8d9b09b7a62f"
      },
      "execution_count": 12,
      "outputs": [
        {
          "output_type": "execute_result",
          "data": {
            "text/plain": [
              "43"
            ]
          },
          "metadata": {},
          "execution_count": 12
        }
      ]
    },
    {
      "cell_type": "code",
      "source": [
        "print(texto_delfines)"
      ],
      "metadata": {
        "id": "zIm8WQrB2v0F",
        "colab": {
          "base_uri": "https://localhost:8080/"
        },
        "outputId": "1d348d6e-53e4-4fd7-e27d-eddef4590c98"
      },
      "execution_count": 13,
      "outputs": [
        {
          "output_type": "stream",
          "name": "stdout",
          "text": [
            "Palabra de delfín\n",
            "\n",
            "El sistema de comunicación de los delfines es muy\n",
            "complejo, tanto que podría perfectamente permitir\n",
            "la transmisión de información simbólica. Por ese\n",
            "motivo es objeto de estudio por parte de diferentes\n",
            "investigadores. Uno de los trabajos más interesan-\n",
            "tes sobre su sistema de comunicación es el que lle-\n",
            "vó a cabo el delfinólogo ruso Vladimir Markov en\n",
            "1990. Su trabajo mostró que en la comunicación de\n",
            "estos animales aparecen ciertas cadenas de soni-\n",
            "dos agrupadas formando bloques estables. Estos\n",
            "bloques estables presentan además límites bien\n",
            "definidos entre ellos, marcados con pausas, y se\n",
            "usan como entidades independientes, combinán-\n",
            "dose en estructuras mayores. Es decir, esos blo-\n",
            "ques se comportan igual que las palabras en el len-\n",
            "guaje humano: bloques de sonidos estables que\n",
            "combinamos para formar oraciones con las que nos\n",
            "comunicamos. Resulta tremendamente tentador\n",
            "por tanto identificar con palabras a esos bloques\n",
            "con los que se comunican los delfines.\n",
            "\n",
            "El lenguaje del delfín aumenta su complejidad con-\n",
            "forme el animal madura. Y si, en efecto, como su-\n",
            "gieren los experimentos realizados, los delfines\n",
            "son capaces de comunicar informaciones abstrac-\n",
            "tas como 'encendido' o “parpadeando' o “izquierda”\n",
            "o “derecha”, estaríamos hablando de que poseen\n",
            "algún tipo de lenguaje simbólico. No solo eso.\n",
            "\n",
            " \n",
            "\n",
            "Comparten con nosotros algo que creíamos era ex-\n",
            "clusivamente humano: aunque es un dato poco co-\n",
            "nocido, sabemos que buena parte de los delfines,\n",
            "como el delfín mular, emplean nombres propios.\n",
            "Aparte del caso humano, es el único que conoce-\n",
            "mos. El bautizo del delfín comienza justo tras su\n",
            "nacimiento: tras el parto, la madre comienza a lla-\n",
            "mar a su cría con un silbido característico durante\n",
            "varios días (como, si dijéramos, para que el delfini-\n",
            "to se lo aprenda), que lo identificará de por vida, y\n",
            "que los demás delfines usarán para dirigirse a él.\n",
            "Su nombre.\n",
            "\n",
            "FERNANDO J. BALLESTEROS\n",
            "Gramáticas extraterrestres (Adaptación)\n",
            "\f\n"
          ]
        }
      ]
    },
    {
      "cell_type": "code",
      "source": [],
      "metadata": {
        "id": "Nt-liugi07E3"
      },
      "execution_count": null,
      "outputs": []
    }
  ]
}